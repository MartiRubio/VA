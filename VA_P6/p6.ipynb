{
 "cells": [
  {
   "cell_type": "markdown",
   "metadata": {},
   "source": [
    "# Computer Vision - P6\n",
    "\n",
    "### **Carefully read the file `README.md` as well as the following instructions before start coding.**"
   ]
  },
  {
   "cell_type": "markdown",
   "metadata": {},
   "source": [
    "## Delivery\n",
    "\n",
    "Up to **1 point out of 10** will be penalized if the following requirements are not fulfilled:\n",
    "\n",
    "- Implemented code should be commented.\n",
    "\n",
    "- The questions introduced in the exercises must be answered.\n",
    "\n",
    "- Add title to the figures to explain what is displayed.\n",
    "\n",
    "- Comments need to be in **english**.\n",
    "\n",
    "- The deliverable must be a file named **P6_Student1_Student2.zip** that includes:\n",
    "    - The notebook P6_Student1_Student2.ipynb completed with the solutions to the exercises and their corresponding comments.\n",
    "    - All the images used in this notebook.\n",
    "\n",
    "**Deadline (Campus Virtual): January 5th, 23:00 h** "
   ]
  },
  {
   "cell_type": "markdown",
   "metadata": {},
   "source": [
    "## Haar-like features applied for face detection\n",
    "\n",
    "Today's exercices will practise the following:\n",
    "\n",
    "- Integral images and a classical use for fast harr-like feature computation.\n",
    " - Use of Adaboost for classification.\n",
    "- Decisions based on a user-defined threshold for balancing precision and recall."
   ]
  },
  {
   "cell_type": "code",
   "execution_count": 1,
   "metadata": {},
   "outputs": [],
   "source": [
    "# Some useful imports for the exercises\n",
    "import numpy as np\n",
    "import os\n",
    "import matplotlib\n",
    "from PIL import Image\n",
    "from multiprocessing import Pool\n",
    "from functools import partial\n",
    "import time\n",
    "import timeit\n",
    "from matplotlib import pyplot as plt\n",
    "\n",
    "%matplotlib inline"
   ]
  },
  {
   "cell_type": "markdown",
   "metadata": {},
   "source": [
    "**1) Build a function `to_integral_image` that computes the integral image of an input (2D) array.**\n",
    "\n",
    "The integral image must have an additional row and column full of zeros (first row and first column).\n",
    "Make sure that the values of the integral image are correct.\n",
    "\n",
    "```python\n",
    " def to_integral_image(img_arr):\n",
    "    row_sum = np.zeros(img_arr.shape)\n",
    "    integral_image_arr = np.zeros((img_arr.shape[0] + 1, img_arr.shape[1] + 1))\n",
    "    # Add here code\n",
    "    \n",
    "    return integral_image_arr\n",
    "```\n",
    "\n",
    "\n",
    "You can make the following tests:\n",
    " \n",
    " - `sum(img_array) == ii_img_array[-1,-1]`\n",
    " - `img_array[0,:].sum() == ii_img_array[1,-1]`\n",
    " \n",
    "Plot the output of the integral image for the following array:\n",
    "\n",
    "```\n",
    "img_array = np.array([[1,2,2,2,1],[1,2,2,2,1],[1,2,2,2,1],[1,2,2,2,1]])\n",
    "```\n",
    "\n",
    "\n"
   ]
  },
  {
   "cell_type": "code",
   "execution_count": 2,
   "metadata": {},
   "outputs": [
    {
     "data": {
      "text/plain": [
       "<matplotlib.image.AxesImage at 0x11cfc8898>"
      ]
     },
     "execution_count": 2,
     "metadata": {},
     "output_type": "execute_result"
    },
    {
     "data": {
      "image/png": "[encoded data removed]",
      "text/plain": [
       "<Figure size 432x288 with 1 Axes>"
      ]
     },
     "metadata": {},
     "output_type": "display_data"
    }
   ],
   "source": [
    "img_array = np.array([[1,2,2,2,1],[1,2,2,2,1],[1,2,2,2,1],[1,2,2,2,1]])\n",
    "img_array.shape\n",
    "plt.imshow(img_array, cmap=\"gray\", vmin=0, vmax= 5)"
   ]
  },
  {
   "cell_type": "code",
   "execution_count": 3,
   "metadata": {},
   "outputs": [],
   "source": [
    "def to_integral_image(img_arr):\n",
    "    \"\"\"\n",
    "    Calculates the integral image based on this instance's original image data.\n",
    "    :param img_arr: Image source data\n",
    "    :type img_arr: numpy.ndarray\n",
    "    :return Integral image for given image\n",
    "    :rtype: numpy.ndarray\n",
    "    \"\"\"\n",
    "    # an index of -1 refers to the last row/column\n",
    "    # since row_sum is calculated starting from (0,0),\n",
    "    # rowSum(x, -1) == 0 holds for all x\n",
    "    row_sum = np.zeros(img_arr.shape)\n",
    "    # we need an additional column and row\n",
    "    integral_image_arr = np.zeros((img_arr.shape[0] + 1, img_arr.shape[1] + 1))\n",
    "    \n",
    "    # The first row and column are set to zero\n",
    "    integral_image_arr[0,:] = np.zeros(img_arr.shape[1] + 1)\n",
    "    integral_image_arr[:,0] = np.zeros(img_arr.shape[0] + 1)\n",
    "    \n",
    "    # The cumulative sum is computed\n",
    "    np.cumsum(img_arr,axis = 0, out=img_arr)\n",
    "    np.cumsum(img_arr,axis = 1, out=img_arr)\n",
    "    \n",
    "    # The sum is set in the matrix defined before\n",
    "    integral_image_arr[1:,1:] = img_arr\n",
    "    \n",
    "    # The matrix is returned\n",
    "    return integral_image_arr"
   ]
  },
  {
   "cell_type": "code",
   "execution_count": 4,
   "metadata": {},
   "outputs": [],
   "source": [
    "ii_img_array = to_integral_image(img_array)"
   ]
  },
  {
   "cell_type": "code",
   "execution_count": 5,
   "metadata": {},
   "outputs": [
    {
     "data": {
      "text/plain": [
       "array([[ 0.,  0.,  0.,  0.,  0.,  0.],\n",
       "       [ 0.,  1.,  3.,  5.,  7.,  8.],\n",
       "       [ 0.,  2.,  6., 10., 14., 16.],\n",
       "       [ 0.,  3.,  9., 15., 21., 24.],\n",
       "       [ 0.,  4., 12., 20., 28., 32.]])"
      ]
     },
     "execution_count": 5,
     "metadata": {},
     "output_type": "execute_result"
    }
   ],
   "source": [
    "ii_img_array"
   ]
  },
  {
   "cell_type": "markdown",
   "metadata": {},
   "source": [
    "** 2) Build a function to compute the  sum of the pixel intensities within a  rectangle using the integral image. The rectangle will be defined using the top left (x, y) and bottom right (x, y) coordinates.**\n",
    "\n",
    "Make the function with the following header:\n",
    "```\n",
    "def sum_region(integral_img_arr, top_left, bottom_right):\n",
    "```\n"
   ]
  },
  {
   "cell_type": "code",
   "execution_count": 6,
   "metadata": {},
   "outputs": [],
   "source": [
    "def sum_region(integral_img_arr, top_left, bottom_right):\n",
    "    \n",
    "    # The margins are extracted\n",
    "    x0, y0 = top_left\n",
    "    x1, y1 = bottom_right\n",
    "    \n",
    "    # The value is computed\n",
    "    total = integral_img_arr[x0,y0] + integral_img_arr[x1,y1] - integral_img_arr[x0,y1] - integral_img_arr[x1,y0]\n",
    "    \n",
    "    # The value is returned\n",
    "    return total"
   ]
  },
  {
   "cell_type": "code",
   "execution_count": 7,
   "metadata": {},
   "outputs": [
    {
     "data": {
      "text/plain": [
       "12.0"
      ]
     },
     "execution_count": 7,
     "metadata": {},
     "output_type": "execute_result"
    }
   ],
   "source": [
    "# result you should get (12)\n",
    "sum_region(ii_img_array, [1,1],[3,4])"
   ]
  },
  {
   "cell_type": "code",
   "execution_count": 8,
   "metadata": {},
   "outputs": [
    {
     "data": {
      "text/plain": [
       "32.0"
      ]
     },
     "execution_count": 8,
     "metadata": {},
     "output_type": "execute_result"
    }
   ],
   "source": [
    "# result you should get (32)\n",
    "sum_region(ii_img_array, [0,0],[-1,-1])"
   ]
  },
  {
   "cell_type": "markdown",
   "metadata": {
    "collapsed": true
   },
   "source": [
    "**3) Compute the integral image for all the following images:**\n",
    "    \n",
    "- training images of faces: save results in **`faces_ii_training`**\n",
    "- testing images of face: save the results in **`faces_ii_testing`**\n",
    "- training images of non faces: **`non_faces_ii_training`**\n",
    "- testing images of non faces:  **`non_faces_ii_testing`**\n",
    "\n",
    "To do so build a function to read all the images inside a given folder:\n",
    "\n",
    "```python\n",
    "def load_images(path):\n",
    "    images = []\n",
    "    for _file in os.listdir(path):\n",
    "       #### Read image\n",
    "       #### Remember to scale the image (wih the max pixel intensity value)\n",
    "     \n",
    "    return images\n",
    " ```"
   ]
  },
  {
   "cell_type": "code",
   "execution_count": 9,
   "metadata": {},
   "outputs": [],
   "source": [
    "pos_training_path = 'trainingdata/faces'\n",
    "neg_training_path = 'trainingdata/nonfaces'\n",
    "pos_testing_path = 'trainingdata/faces/test'\n",
    "neg_testing_path = 'trainingdata/nonfaces/test'"
   ]
  },
  {
   "cell_type": "code",
   "execution_count": 10,
   "metadata": {
    "scrolled": true
   },
   "outputs": [],
   "source": [
    "def load_images(path):\n",
    "    # The array is initialized\n",
    "    images = []\n",
    "    \n",
    "    # For every file in the folder\n",
    "    for _file in os.listdir(path):\n",
    "        # if it is an image\n",
    "        if _file[len(_file)-4:] == '.png':\n",
    "            \n",
    "            # Read the image\n",
    "            image = matplotlib.image.imread(path+ '/' + _file)\n",
    "            \n",
    "            # Normalize it\n",
    "            image = image/np.max(image)\n",
    "            \n",
    "            # Calculate its sum\n",
    "            image = to_integral_image(image)\n",
    "            \n",
    "            # Add it to the array\n",
    "            images.append(image)\n",
    "            \n",
    "    \n",
    "    return images\n",
    "\n",
    "\n"
   ]
  },
  {
   "cell_type": "code",
   "execution_count": 11,
   "metadata": {},
   "outputs": [
    {
     "name": "stderr",
     "output_type": "stream",
     "text": [
      "/anaconda3/lib/python3.6/site-packages/ipykernel_launcher.py:7: RuntimeWarning: invalid value encountered in true_divide\n",
      "  import sys\n"
     ]
    }
   ],
   "source": [
    "faces_ii_training = load_images(pos_training_path)\n",
    "# print(len(faces_ii_training))\n",
    "faces_ii_test = load_images(pos_testing_path)\n",
    "# print(len(faces_ii_testing))\n",
    "non_faces_ii_training = load_images(neg_training_path)\n",
    "# print(len(non_faces_ii_training))\n",
    "non_faces_ii_test = load_images(neg_testing_path)\n",
    "# print(len(non_faces_ii_test))"
   ]
  },
  {
   "cell_type": "markdown",
   "metadata": {},
   "source": [
    "**4) Compute the Haar features of an image**\n",
    "\n",
    "The code given will use the  `sum_region` function you have implemented to compute Haar-like features.\n",
    "The following code, for example, will compute a vertical Haar-like feature\n",
    "```python\n",
    "    first = sum_region(int_img, \n",
    "                      self.top_left, \n",
    "                      (self.top_left[0] + self.width, int(self.top_left[1] + self.height / 2)))\n",
    "    second = sum_region(int_img, \n",
    "                       (self.top_left[0], int(self.top_left[1] + self.height / 2)),\n",
    "                       self.bottom_right)\n",
    "    score = first - second\n",
    "```\n",
    "\n",
    "We provide you with `HaarLikeFeature` class that has build in a `get_score` function and a `get_vote` function.\n",
    "\n",
    "Your job is to \n",
    "```python\n",
    "def _create_features(img_height, img_width, min_feature_width, max_feature_width, min_feature_height, max_feature_height):\n",
    "    print('Creating Haar-like features..')\n",
    "    t0 = time.time()\n",
    "    features = []\n",
    "    for feature in FeatureTypes:\n",
    "        # FeatureTypes are just tuples\n",
    "        feature_start_width = max(min_feature_width, feature[0])\n",
    "        for feature_width in range(feature_start_width, max_feature_width, feature[0]):\n",
    "            feature_start_height = max(min_feature_height, feature[1])\n",
    "            for feature_height in range(feature_start_height, max_feature_height, feature[1]):\n",
    "                # Loop over possible x values and y values \n",
    "                # - For each (x,y) create the HarrLikeFeature objects.\n",
    "                # - append the HaarlikeFeatures in the features list.\n",
    "                # Notice that Haarlike features contain polarity, append features for polarity 1 and -1\n",
    "                # The threshold can be set to 0 for all of them.\n",
    "                \n",
    "                \n",
    "    print('\\t' + str(len(features)) + ' features created.')\n",
    "    print('\\tTime needed for calculating Harr-like features:', time.time()-t0)\n",
    "    return features\n",
    "```"
   ]
  },
  {
   "cell_type": "code",
   "execution_count": 12,
   "metadata": {},
   "outputs": [],
   "source": [
    "def enum(**enums):\n",
    "    return type('Enum', (), enums)\n",
    "\n",
    "FeatureType = enum(TWO_VERTICAL=(1, 2), TWO_HORIZONTAL=(2, 1), THREE_HORIZONTAL=(3, 1), THREE_VERTICAL=(1, 3), FOUR=(2, 2))\n",
    "FeatureTypes = [FeatureType.TWO_VERTICAL, FeatureType.TWO_HORIZONTAL, FeatureType.THREE_VERTICAL, FeatureType.THREE_HORIZONTAL, FeatureType.FOUR]\n",
    "\n",
    "class HaarLikeFeature(object):\n",
    "    \"\"\"\n",
    "    Class representing a haar-like feature.\n",
    "    \"\"\"\n",
    "\n",
    "    def __init__(self, feature_type, position, width, height, threshold, polarity):\n",
    "        \"\"\"\n",
    "        Creates a new haar-like feature.\n",
    "        :param feature_type: Type of new feature, see FeatureType enum\n",
    "        :type feature_type: violajonse.HaarLikeFeature.FeatureTypes\n",
    "        :param position: Top left corner where the feature begins (x, y)\n",
    "        :type position: (int, int)\n",
    "        :param width: Width of the feature\n",
    "        :type width: int\n",
    "        :param height: Height of the feature\n",
    "        :type height: int\n",
    "        :param threshold: Feature threshold\n",
    "        :type threshold: float\n",
    "        :param polarity: polarity of the feature -1 or 1\n",
    "        :type polarity: int\n",
    "        \"\"\"\n",
    "        self.type = feature_type\n",
    "        self.top_left = position\n",
    "        self.bottom_right = (position[0] + width, position[1] + height)\n",
    "        self.width = width\n",
    "        self.height = height\n",
    "        self.threshold = threshold\n",
    "        self.polarity = polarity\n",
    "        self.weight = 1\n",
    "    \n",
    "    def get_score(self, int_img):\n",
    "        \"\"\"\n",
    "        Get score for given integral image array.\n",
    "        :param int_img: Integral image array\n",
    "        :type int_img: numpy.ndarray\n",
    "        :return: Score for given feature\n",
    "        :rtype: float\n",
    "        \"\"\"\n",
    "        score = 0\n",
    "        if self.type == FeatureType.TWO_VERTICAL:\n",
    "            first = sum_region(int_img, self.top_left, (self.top_left[0] + self.width, int(self.top_left[1] + self.height / 2)))\n",
    "            second = sum_region(int_img, (self.top_left[0], int(self.top_left[1] + self.height / 2)), self.bottom_right)\n",
    "            score = first - second\n",
    "        elif self.type == FeatureType.TWO_HORIZONTAL:\n",
    "            first = sum_region(int_img, self.top_left, (int(self.top_left[0] + self.width / 2), self.top_left[1] + self.height))\n",
    "            second = sum_region(int_img, (int(self.top_left[0] + self.width / 2), self.top_left[1]), self.bottom_right)\n",
    "            score = first - second\n",
    "        elif self.type == FeatureType.THREE_HORIZONTAL:\n",
    "            first = sum_region(int_img, self.top_left, (int(self.top_left[0] + self.width / 3), self.top_left[1] + self.height))\n",
    "            second = sum_region(int_img, (int(self.top_left[0] + self.width / 3), self.top_left[1]), (int(self.top_left[0] + 2 * self.width / 3), self.top_left[1] + self.height))\n",
    "            third = sum_region(int_img, (int(self.top_left[0] + 2 * self.width / 3), self.top_left[1]), self.bottom_right)\n",
    "            score = first - second + third\n",
    "        elif self.type == FeatureType.THREE_VERTICAL:\n",
    "            first = sum_region(int_img, self.top_left, (self.bottom_right[0], int(self.top_left[1] + self.height / 3)))\n",
    "            second = sum_region(int_img, (self.top_left[0], int(self.top_left[1] + self.height / 3)), (self.bottom_right[0], int(self.top_left[1] + 2 * self.height / 3)))\n",
    "            third = sum_region(int_img, (self.top_left[0], int(self.top_left[1] + 2 * self.height / 3)), self.bottom_right)\n",
    "            score = first - second + third\n",
    "        elif self.type == FeatureType.FOUR:\n",
    "            # top left area\n",
    "            first = sum_region(int_img, self.top_left, (int(self.top_left[0] + self.width / 2), int(self.top_left[1] + self.height / 2)))\n",
    "            # top right area\n",
    "            second = sum_region(int_img, (int(self.top_left[0] + self.width / 2), self.top_left[1]), (self.bottom_right[0], int(self.top_left[1] + self.height / 2)))\n",
    "            # bottom left area\n",
    "            third = sum_region(int_img, (self.top_left[0], int(self.top_left[1] + self.height / 2)), (int(self.top_left[0] + self.width / 2), self.bottom_right[1]))\n",
    "            # bottom right area\n",
    "            fourth = sum_region(int_img, (int(self.top_left[0] + self.width / 2), int(self.top_left[1] + self.height / 2)), self.bottom_right)\n",
    "            score = first - second - third + fourth\n",
    "        return score\n",
    "    \n",
    "    def get_vote(self, int_img):\n",
    "        \"\"\"\n",
    "        Get vote of this feature for given integral image.\n",
    "        :param int_img: Integral image array\n",
    "        :type int_img: numpy.ndarray\n",
    "        :return: 1 iff this feature votes positively, otherwise -1\n",
    "        :rtype: int\n",
    "        \"\"\"\n",
    "        score = self.get_score(int_img)\n",
    "        return self.weight * (1 if score < self.polarity * self.threshold else -1)\n"
   ]
  },
  {
   "cell_type": "code",
   "execution_count": 13,
   "metadata": {},
   "outputs": [],
   "source": [
    "\n",
    "def learn(positive_iis, negative_iis, num_classifiers=-1, min_feature_width=1, max_feature_width=-1, min_feature_height=1, max_feature_height=-1):\n",
    "    \"\"\"\n",
    "    Selects a set of classifiers. Iteratively takes the best classifiers based\n",
    "    on a weighted error.\n",
    "    :param positive_iis: List of positive integral image examples\n",
    "    :type positive_iis: list[numpy.ndarray]\n",
    "    :param negative_iis: List of negative integral image examples\n",
    "    :type negative_iis: list[numpy.ndarray]\n",
    "    :param num_classifiers: Number of classifiers to select, -1 will use all\n",
    "    classifiers\n",
    "    :type num_classifiers: int\n",
    "    :return: List of selected features\n",
    "    :rtype: list[violajones.HaarLikeFeature.HaarLikeFeature]\n",
    "    \"\"\"\n",
    "    num_pos = len(positive_iis)\n",
    "    num_neg = len(negative_iis)\n",
    "    num_imgs = num_pos + num_neg\n",
    "    img_height, img_width = positive_iis[0].shape\n",
    "\n",
    "    # Maximum feature width and height default to image width and height\n",
    "    max_feature_height = img_height if max_feature_height == -1 else max_feature_height\n",
    "    max_feature_width = img_width if max_feature_width == -1 else max_feature_width\n",
    "\n",
    "    # Create initial weights and labels\n",
    "    pos_weights = np.ones(num_pos) * 1. / (2 * num_pos)\n",
    "    neg_weights = np.ones(num_neg) * 1. / (2 * num_neg)\n",
    "    weights = np.hstack((pos_weights, neg_weights))\n",
    "    labels = np.hstack((np.ones(num_pos), np.ones(num_neg) * -1))\n",
    "\n",
    "    images = positive_iis + negative_iis\n",
    "\n",
    "    # Create features for all sizes and locations\n",
    "    features = _create_features(img_height, img_width, min_feature_width, max_feature_width, min_feature_height, max_feature_height)\n",
    "    num_features = len(features)\n",
    "    feature_indexes = list(range(num_features))\n",
    "\n",
    "    num_classifiers = num_features if num_classifiers == -1 else num_classifiers\n",
    "\n",
    "    print('Calculating scores for images..')\n",
    "    t0 = time.time()\n",
    "    votes = np.zeros((num_imgs, num_features))\n",
    "    # Use as many workers as there are CPUs\n",
    "    pool = Pool(processes=None)\n",
    "    for i in range(num_imgs):\n",
    "        votes[i, :] = np.array(list(pool.map(partial(_get_feature_vote, image=images[i]), features)))\n",
    "\n",
    "    \n",
    "    print('\\tTime needed for calculating scores:', time.time()-t0)\n",
    "    \n",
    "    # select classifiers\n",
    "    classifiers = []\n",
    "\n",
    "    t0 = time.time()\n",
    "    print('Selecting classifiers..')\n",
    "    for _ in range(num_classifiers):\n",
    "\n",
    "        classification_errors = np.zeros(len(feature_indexes))\n",
    "\n",
    "        # normalize weights\n",
    "        weights *= 1. / np.sum(weights)\n",
    "\n",
    "        # select best classifier based on the weighted error\n",
    "        for f in range(len(feature_indexes)):\n",
    "            f_idx = feature_indexes[f]\n",
    "            # classifier error is the sum of image weights where the classifier\n",
    "            # is right\n",
    "            error = sum(map(lambda img_idx: weights[img_idx] if labels[img_idx] != votes[img_idx, f_idx] else 0, range(num_imgs)))\n",
    "            classification_errors[f] = error\n",
    "\n",
    "        # get best feature, i.e. with smallest error\n",
    "        min_error_idx = np.argmin(classification_errors)\n",
    "        best_error = classification_errors[min_error_idx]\n",
    "        best_feature_idx = feature_indexes[min_error_idx]\n",
    "\n",
    "        # set feature weight\n",
    "        best_feature = features[best_feature_idx]\n",
    "        feature_weight = 0.5 * np.log((1 - best_error) / best_error)\n",
    "        best_feature.weight = feature_weight\n",
    "\n",
    "        classifiers.append(best_feature)\n",
    "\n",
    "        # update image weights\n",
    "        weights = np.array(list(map(lambda img_idx: weights[img_idx] * np.sqrt((1-best_error)/best_error) if labels[img_idx] != votes[img_idx, best_feature_idx] else weights[img_idx] * np.sqrt(best_error/(1-best_error)), range(num_imgs))))\n",
    "\n",
    "        # remove feature (a feature can't be selected twice)\n",
    "        feature_indexes.remove(best_feature_idx)\n",
    "\n",
    "    print('\\tTime needed for Selecting Classifiers:', time.time()-t0,'\\n')\n",
    "\n",
    "\n",
    "    return classifiers\n",
    "\n",
    "def _get_feature_vote(feature, image):\n",
    "    return feature.get_vote(image)\n",
    "\n",
    "def _create_features(img_height, img_width, min_feature_width, max_feature_width, min_feature_height, max_feature_height):\n",
    "    print('Creating Haar-like features..')\n",
    "    t0 = time.time()\n",
    "    features = []\n",
    "    for feature in FeatureTypes:\n",
    "        # FeatureTypes are just tuples\n",
    "        feature_start_width = max(min_feature_width, feature[0])\n",
    "        \n",
    "        # For every width possible\n",
    "        for feature_width in range(feature_start_width, max_feature_width, feature[0]):\n",
    "            feature_start_height = max(min_feature_height, feature[1])\n",
    "            \n",
    "            # For every height possible\n",
    "            for feature_height in range(feature_start_height, max_feature_height, feature[1]):\n",
    "                \n",
    "                # For every x in the rectangle\n",
    "                for x in range(0, img_width - feature_width):\n",
    "                    \n",
    "                    # For every y in the rectangle\n",
    "                    for y in range(0, img_height - feature_height):\n",
    "                        \n",
    "                        # Both Features are created with polarities 1 and -1 respectively\n",
    "                        a = HaarLikeFeature(feature, [x,y], feature_width, feature_height, 0, 1)\n",
    "                        b = HaarLikeFeature(feature, [x,y], feature_width, feature_height, 0, -1)\n",
    "                        \n",
    "                        # Both Features are added\n",
    "                        features.append(a)\n",
    "                        features.append(b)\n",
    "\n",
    "    print('\\t' + str(len(features)) + ' features created.')\n",
    "    print('\\tTime needed for calculating Harr-like features:', time.time()-t0)\n",
    "    return features\n"
   ]
  },
  {
   "cell_type": "markdown",
   "metadata": {},
   "source": [
    "** 5)Use the learn method  to learn a list of classifiers with the train data **\n",
    "\n",
    "With the `learn` function you can build a list of classifiers that detect whether an image contains a face or not.\n",
    "\n",
    "Use the following hyperparameters of the features and `num_classifiers`."
   ]
  },
  {
   "cell_type": "code",
   "execution_count": 14,
   "metadata": {},
   "outputs": [],
   "source": [
    "num_classifiers = 2\n",
    "min_feature_height = 8\n",
    "max_feature_height = 10\n",
    "min_feature_width = 8\n",
    "max_feature_width = 10"
   ]
  },
  {
   "cell_type": "code",
   "execution_count": 15,
   "metadata": {},
   "outputs": [
    {
     "name": "stdout",
     "output_type": "stream",
     "text": [
      "Creating Haar-like features..\n",
      "\t2496 features created.\n",
      "\tTime needed for calculating Harr-like features: 0.009107828140258789\n",
      "Calculating scores for images..\n",
      "\tTime needed for calculating scores: 203.22567701339722\n",
      "Selecting classifiers..\n",
      "\tTime needed for Selecting Classifiers: 42.18061113357544 \n",
      "\n",
      "CPU times: user 2min 56s, sys: 5.03 s, total: 3min 1s\n",
      "Wall time: 4min 5s\n"
     ]
    }
   ],
   "source": [
    "%%time \n",
    "classifiers = learn(faces_ii_training, \n",
    "                    non_faces_ii_training,\n",
    "                    num_classifiers,\n",
    "                    min_feature_width,\n",
    "                    max_feature_width,\n",
    "                    min_feature_height,\n",
    "                    max_feature_height)"
   ]
  },
  {
   "cell_type": "markdown",
   "metadata": {},
   "source": [
    "** 6) Make a function for voting with different classifiers **\n",
    "\n",
    "Build two functions `ensemble_vote` and `ensemble_vote_all`.\n",
    "\n",
    "- `ensemble_vote(int_img, classifiers)` has to return a 1 if the majority of the votes of the classifiers is positive and a zero otherwise\n",
    "\n",
    "- `ensemble_vote_all(int_imgs, classifiers)` has to loop over the list `int_imgs` and compute the `ensemble_vote` for each image in the list. It has to return a list containing all the votes for all the images in  `int_imgs`.\n",
    "\n",
    "Use the functions to compute the train and test acurracies for faces and non faces.\n",
    "\n",
    "Print the results in the following format:\n",
    "```\n",
    "train results:\n",
    "Correctly identified Faces: 2129/2429  (87.64923836969946%)\n",
    "Correctly identified non-Faces: 4276/8548  (50.02339728591484%)\n",
    "\n",
    "test results:\n",
    "Correctly identified Faces: 300/472  (63.559322033898304%)\n",
    "Correctly identified non-Faces: 74/128  (57.8125%)\n",
    "```\n",
    "\n",
    "It is not required to get this exact results but print the information in this format. It facilitates understanding the results."
   ]
  },
  {
   "cell_type": "code",
   "execution_count": 16,
   "metadata": {},
   "outputs": [],
   "source": [
    "def ensemble_vote(int_img, classifiers):\n",
    "    \n",
    "    # Votes computes the sum of all votes\n",
    "    votes = 0\n",
    "    \n",
    "    # For every classifier\n",
    "    for classifier in classifiers:\n",
    "        # Add its vote to the votes total\n",
    "        votes += classifier.get_vote(int_img)\n",
    "        \n",
    "    # Return whether votes is bigger or smaller than 0\n",
    "    return votes >= 0"
   ]
  },
  {
   "cell_type": "code",
   "execution_count": 17,
   "metadata": {},
   "outputs": [],
   "source": [
    "# Solution 1\n",
    "def ensemble_vote_all(int_imgs, classifiers):\n",
    "    results = []\n",
    "    \n",
    "    # For all images\n",
    "    for int_img in int_imgs:\n",
    "        \n",
    "        # Append the final vote for that image\n",
    "        results.append(ensemble_vote(int_img, classifiers))\n",
    "    return results\n"
   ]
  },
  {
   "cell_type": "code",
   "execution_count": 18,
   "metadata": {},
   "outputs": [
    {
     "name": "stdout",
     "output_type": "stream",
     "text": [
      "train results:\n",
      "Correctly indentified faces:  2129 / 2429 ( 87.64923836969946 %)\n",
      "Correctly indentified non-faces:  4274 / 8548 ( 50.0 %)\n",
      "test results:\n",
      "Correctly indentified faces:  300 / 472 ( 63.559322033898304 %)\n",
      "train results:\n",
      "Correctly indentified faces:  74 / 128 ( 57.8125 %)\n"
     ]
    }
   ],
   "source": [
    "\n",
    "# Accuracy of the HaarLikeFeatures is tested in 4 instances\n",
    "\n",
    "total = ensemble_vote_all(faces_ii_training, classifiers)\n",
    "true = sum(total)\n",
    "total = len(total)\n",
    "print('train results:')\n",
    "print('Correctly indentified faces: ', true, '/', total, '(', true/total*100, '%)')\n",
    "total = ensemble_vote_all(non_faces_ii_training, classifiers)\n",
    "true = sum(total)\n",
    "total = len(total)\n",
    "print('Correctly indentified non-faces: ', total - true, '/', total, '(', (total - true)/total*100, '%)')\n",
    "total = ensemble_vote_all(faces_ii_test, classifiers)\n",
    "true = sum(total)\n",
    "total = len(total)\n",
    "print('test results:')\n",
    "print('Correctly indentified faces: ', true, '/', total, '(', true/total*100, '%)')\n",
    "total = ensemble_vote_all(non_faces_ii_test, classifiers)\n",
    "true = sum(total)\n",
    "total = len(total)\n",
    "print('train results:')\n",
    "print('Correctly indentified faces: ', total - true, '/', total, '(', (total - true)/total*100, '%)')"
   ]
  },
  {
   "cell_type": "markdown",
   "metadata": {},
   "source": [
    "true, total = ensemble_vote_all(faces_ii_training, classifiers)\n",
    "print('train results:')\n",
    "print('Correctly indentified faces: ', true, '/', total, '(', true/total*100, '%)')\n",
    "\n",
    "** 7) Make another test with 20 classifiers instead of 2**\n",
    "\n",
    "Inspect the classification results if you use adaboost with 20 classifiers. Use the same hyperameters for the features.\n",
    "Print the results as in the previous exercise:\n",
    "\n",
    "```\n",
    "train results:\n",
    "Correctly identified Faces: 2256/2429  (92.87772745986003%)\n",
    "Correctly identified non-Faces: 7046/8548  (82.42863827795975%)\n",
    "\n",
    "test results:\n",
    "Correctly identified Faces: 285/472  (60.381355932203384%)\n",
    "Correctly identified non-Faces: 104/128  (81.25%)\n",
    "```\n",
    "\n",
    "- Do the classification results improved in the train data?\n",
    "\n"
   ]
  },
  {
   "cell_type": "code",
   "execution_count": 19,
   "metadata": {},
   "outputs": [],
   "source": [
    "num_classifiers = 20\n",
    "min_feature_height = 8\n",
    "max_feature_height = 10\n",
    "min_feature_width = 8\n",
    "max_feature_width = 10"
   ]
  },
  {
   "cell_type": "code",
   "execution_count": 20,
   "metadata": {},
   "outputs": [
    {
     "name": "stdout",
     "output_type": "stream",
     "text": [
      "Creating Haar-like features..\n",
      "\t2496 features created.\n",
      "\tTime needed for calculating Harr-like features: 0.00681614875793457\n",
      "Calculating scores for images..\n",
      "\tTime needed for calculating scores: 197.97870302200317\n",
      "Selecting classifiers..\n",
      "\tTime needed for Selecting Classifiers: 413.1078429222107 \n",
      "\n",
      "CPU times: user 9min 3s, sys: 6.36 s, total: 9min 10s\n",
      "Wall time: 10min 11s\n"
     ]
    }
   ],
   "source": [
    "%%time \n",
    "classifiers = learn(faces_ii_training, \n",
    "                    non_faces_ii_training,\n",
    "                    num_classifiers,\n",
    "                    min_feature_width,\n",
    "                    max_feature_width,\n",
    "                    min_feature_height,\n",
    "                    max_feature_height)"
   ]
  },
  {
   "cell_type": "code",
   "execution_count": 21,
   "metadata": {},
   "outputs": [
    {
     "name": "stdout",
     "output_type": "stream",
     "text": [
      "train results:\n",
      "Correctly indentified faces:  2196 / 2429 ( 90.40757513379992 %)\n",
      "Correctly indentified non-faces:  7148 / 8548 ( 83.62189985961629 %)\n",
      "test results:\n",
      "Correctly indentified faces:  272 / 472 ( 57.6271186440678 %)\n",
      "train results:\n",
      "Correctly indentified faces:  106 / 128 ( 82.8125 %)\n"
     ]
    }
   ],
   "source": [
    "\n",
    "# Accuracy of the HaarLikeFeatures is tested in 4 instances with 20 classifiers\n",
    "\n",
    "total = ensemble_vote_all(faces_ii_training, classifiers)\n",
    "true = sum(total)\n",
    "total = len(total)\n",
    "print('train results:')\n",
    "print('Correctly indentified faces: ', true, '/', total, '(', true/total*100, '%)')\n",
    "total = ensemble_vote_all(non_faces_ii_training, classifiers)\n",
    "true = sum(total)\n",
    "total = len(total)\n",
    "print('Correctly indentified non-faces: ', total - true, '/', total, '(', (total - true)/total*100, '%)')\n",
    "total = ensemble_vote_all(faces_ii_test, classifiers)\n",
    "true = sum(total)\n",
    "total = len(total)\n",
    "print('test results:')\n",
    "print('Correctly indentified faces: ', true, '/', total, '(', true/total*100, '%)')\n",
    "total = ensemble_vote_all(non_faces_ii_test, classifiers)\n",
    "true = sum(total)\n",
    "total = len(total)\n",
    "print('train results:')\n",
    "print('Correctly indentified faces: ', total - true, '/', total, '(', (total - true)/total*100, '%)')"
   ]
  },
  {
   "cell_type": "markdown",
   "metadata": {},
   "source": [
    "** 8) Change the voting functions so that you can set a threshold for deciding a prediction**\n",
    "\n",
    "The threshold value indicates the minimum score for assigning a \"positive\" label (detect a face).\n",
    "\n",
    "Create the following functions\n",
    "\n",
    "- `ensemble_vote_t`: returns the final decision of a list of classifiers for a given threshold.\n",
    "- `ensemble_vote_all_t`: Iterates over a list of integral images and returns the  final decision of a list of classifiers for each of the images (for a given threshold).\n",
    "\n",
    "\n",
    "\n",
    "compute the following:\n",
    "\n",
    "- a) number of correct faces over all faces (in the train data)\n",
    "- b) number of correct non faces over all non faces (in the train data)\n",
    "- c) number of correct faces over all faces (in the test data)\n",
    "- d) number of correct non faces over all non faces (in the test data)\n",
    "\n",
    "Using the list of 20 classifiers.\n",
    "\n",
    "\n",
    "The quantities have to be computed for each of the following thresholds:\n",
    "\n",
    "```\n",
    "thresholds = np.array([x for x in range(-5,5,1)])/10.\n",
    "```\n",
    "\n",
    "- Make a bar bar plot for a) b) c) and d). In the x axis write the threshold value. \n",
    "\n",
    "- What happens when you increase the threshold value ?"
   ]
  },
  {
   "cell_type": "code",
   "execution_count": 22,
   "metadata": {},
   "outputs": [],
   "source": [
    "thresholds = np.array([x for x in range(-5,5,1)])/10."
   ]
  },
  {
   "cell_type": "code",
   "execution_count": 23,
   "metadata": {},
   "outputs": [],
   "source": [
    "correct_faces_train_t = []\n",
    "correct_non_faces_train_t = []\n",
    "correct_faces_test_t = []\n",
    "correct_non_faces_test_t = []"
   ]
  },
  {
   "cell_type": "code",
   "execution_count": 31,
   "metadata": {},
   "outputs": [],
   "source": [
    "def ensemble_score(int_img, classifiers):\n",
    "    votes = []\n",
    "    # For every classifier\n",
    "    for classifier in classifiers:\n",
    "        \n",
    "        # Compute the vote for that image\n",
    "        votes.append(classifier.get_vote(int_img))\n",
    "    return votes\n",
    "\n",
    "def ensemble_vote_t(int_img, classifiers,t):\n",
    "    \n",
    "    # The votes are extracted\n",
    "    total_votes = ensemble_score(int_img, classifiers)\n",
    "    \n",
    "    # The sum is computed with values 0 or 1 if the result is bigger than the threshold\n",
    "    sum_votes = [vote > t for vote in total_votes]\n",
    "    \n",
    "    # We define the result with the majority of votes\n",
    "    result = sum(sum_votes)/len(sum_votes) > 0.5\n",
    "    return result\n",
    "\n",
    "def ensemble_vote_all_t(int_imgs, classifiers,t=-0.1):\n",
    "    votes = []\n",
    "    for int_img in int_imgs:\n",
    "        \n",
    "        # For every image, ensemble the vote with all the classifiers and the threshold value\n",
    "        votes.append(ensemble_vote_t(int_img, classifiers, t))\n",
    "    return votes\n"
   ]
  },
  {
   "cell_type": "code",
   "execution_count": 33,
   "metadata": {},
   "outputs": [],
   "source": [
    "# For every threshold \n",
    "for t in thresholds:\n",
    "    correct_faces_train_t.append(ensemble_vote_all_t(faces_ii_training, classifiers, t))\n",
    "    correct_non_faces_train_t.append(ensemble_vote_all_t(non_faces_ii_training, classifiers, t))\n",
    "    correct_faces_test_t.append(ensemble_vote_all_t(faces_ii_test, classifiers, t))\n",
    "    correct_non_faces_test_t.append(ensemble_vote_all_t(non_faces_ii_test, classifiers, t))"
   ]
  },
  {
   "cell_type": "code",
   "execution_count": 50,
   "metadata": {
    "scrolled": false
   },
   "outputs": [
    {
     "data": {
      "image/png": "[encoded data removed]",
      "text/plain": [
       "<Figure size 432x288 with 1 Axes>"
      ]
     },
     "metadata": {},
     "output_type": "display_data"
    }
   ],
   "source": [
    "# Values array\n",
    "values1 = []\n",
    "values2 = []\n",
    "values3 = []\n",
    "values4 = []\n",
    "\n",
    "# For every result of the thresholds\n",
    "for i in range(len(correct_non_faces_train_t)):\n",
    "    \n",
    "    # Compute the accuracy of every group of images\n",
    "    values1.append(sum(correct_faces_train_t[i]) / len(correct_faces_train_t[i]))\n",
    "    values2.append((len(correct_non_faces_train_t[i]) - sum(correct_non_faces_train_t[i])) / len(correct_non_faces_train_t[i]))\n",
    "    values3.append(sum(correct_faces_test_t[i]) / len(correct_faces_test_t[i]))\n",
    "    values4.append((len(correct_non_faces_test_t[i]) - sum(correct_non_faces_test_t[i])) / len(correct_non_faces_test_t[i]))\n",
    "\n",
    "# The results are plotted    \n",
    "plt.plot(thresholds, values1)\n",
    "plt.plot(thresholds, values2)\n",
    "plt.plot(thresholds, values3)\n",
    "plt.plot(thresholds, values4)\n",
    "plt.show()"
   ]
  },
  {
   "cell_type": "code",
   "execution_count": null,
   "metadata": {},
   "outputs": [],
   "source": [
    "# We clearly see how changing the threshold only exagerates results. As this is a percentage of accuracy, we\n",
    "# want the values to be as closer to the top as possible. We conclude that the best value is around 0."
   ]
  }
 ],
 "metadata": {
  "kernelspec": {
   "display_name": "Python 3",
   "language": "python",
   "name": "python3"
  },
  "language_info": {
   "codemirror_mode": {
    "name": "ipython",
    "version": 3
   },
   "file_extension": ".py",
   "mimetype": "text/x-python",
   "name": "python",
   "nbconvert_exporter": "python",
   "pygments_lexer": "ipython3",
   "version": "3.6.5"
  }
 },
 "nbformat": 4,
 "nbformat_minor": 1
}
